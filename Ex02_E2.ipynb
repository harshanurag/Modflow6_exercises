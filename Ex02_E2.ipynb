{
 "cells": [
  {
   "cell_type": "code",
   "execution_count": 1,
   "id": "d6281343-0dc0-40fd-aff9-085c39ee7bae",
   "metadata": {},
   "outputs": [],
   "source": [
    "import flopy\n",
    "import numpy as np\n",
    "import matplotlib.pyplot as plt"
   ]
  },
  {
   "cell_type": "code",
   "execution_count": 2,
   "id": "ecefb6ab-e029-436e-97f5-370066625ffd",
   "metadata": {},
   "outputs": [],
   "source": [
    "modelname = 'Ex02_E2'\n",
    "exe_name = '/home/harsh/Desktop/modflow_flopy/flopyCourse/mf2005'\n",
    "model_ws = 'Results/'\n",
    "\n",
    "mf = flopy.modflow.Modflow(modelname, exe_name=exe_name, model_ws=model_ws)"
   ]
  },
  {
   "cell_type": "code",
   "execution_count": 4,
   "id": "2c0860a1-3294-47a7-8cce-61ed6eff9725",
   "metadata": {},
   "outputs": [],
   "source": [
    "nper = 11 #stress period\n",
    "nstp = [1] + [12]*10 #no of time step\n",
    "perlen = [1] + [365]*10 #length of stress period\n",
    "tsmult = [1] + [1.2]*10 #multiplier\n",
    "steady = [True] + [False]*10 #whether transient or steady-state\n",
    "\n",
    "\n",
    "zbot = [-50., -100.]\n",
    "nlay = 3 #2 layers for this example\n",
    "nrow = 21\n",
    "ncol = 20\n",
    "\n",
    "top = np.ones((nrow, ncol), dtype=np.int32)\n",
    "\n",
    "for i in range(ncol):\n",
    "    top[:,i] = 396 - i*4\n",
    "\n",
    "delr = 500\n",
    "delc = 500\n",
    "\n",
    "botm = [220,200,0]\n",
    "dis = flopy.modflow.ModflowDis(mf, nlay, nrow, ncol,\n",
    "                               delr=delr, delc=delc, top=top, botm=botm,\n",
    "                              nper = nper, nstp=nstp, perlen=perlen, tsmult=tsmult, steady=steady)"
   ]
  },
  {
   "cell_type": "code",
   "execution_count": 5,
   "id": "f64daf94-0081-4519-aaaf-85448cf5b11b",
   "metadata": {},
   "outputs": [],
   "source": [
    "bas = flopy.modflow.ModflowBas(mf, ibound=1, strt=320)"
   ]
  },
  {
   "cell_type": "code",
   "execution_count": 7,
   "id": "841fed1d-6ea3-46e2-8233-1955c1fc69ea",
   "metadata": {},
   "outputs": [],
   "source": [
    "lpf = flopy.modflow.ModflowLpf(mf, hk=[50., 0.01, 200], vka=[10, 0.01, 20], ipakcb=53, laytyp=[1,0,0], ss=1E-5, sy=0.2)\n",
    "#ss - specific storage; sy - specific yield"
   ]
  },
  {
   "cell_type": "code",
   "execution_count": 8,
   "id": "568fe923-076c-448f-9afd-2819775149dc",
   "metadata": {},
   "outputs": [],
   "source": [
    "rch = flopy.modflow.ModflowRch(mf, rech=0.015) #recharge"
   ]
  },
  {
   "cell_type": "code",
   "execution_count": 10,
   "id": "3486c212-bf8a-4e81-8cf2-569e644b79a7",
   "metadata": {},
   "outputs": [],
   "source": [
    "#definting stress period data\n",
    "'''on the first timeperiod (python starts from 0), well pumps 150000,\n",
    "on the 4th no pumping, and on the 7th it pumps 200000 '''\n",
    "spd = {1:[[2, 10, 9, -150000]],\n",
    "      4: [[2, 10, 9, 0]],\n",
    "      7: [[2, 10, 9, -200000]]\n",
    "      }\n",
    "\n",
    "wel = flopy.modflow.ModflowWel(mf, stress_period_data=spd)"
   ]
  },
  {
   "cell_type": "code",
   "execution_count": 11,
   "id": "f2e71eca-31f2-4301-93b0-03c4d13661c9",
   "metadata": {},
   "outputs": [],
   "source": [
    "#defining river\n",
    "\n",
    "#this applies a river boundary condition for every row of the last column; rivers water surface head is 320, conductance is 1e5 and river bottom is 318\n",
    "#0 in spd_riv is for the first period, which is then repeated for every subsequent time period\n",
    "spd_riv = {0: [[0, i, 19, 320, 1e5, 318] for i in range(nrow)]}\n",
    "\n",
    "\n",
    "riv = flopy.modflow.ModflowRiv(mf, stress_period_data=spd_riv)"
   ]
  },
  {
   "cell_type": "code",
   "execution_count": 12,
   "id": "69f4c8ac-fb39-44f6-b095-822cc2d99003",
   "metadata": {},
   "outputs": [],
   "source": [
    "spd = {}\n",
    "for i in range(nper):\n",
    "    for j in range(nstp[i]):\n",
    "        spd = {(i,j):['print head', 'print budget', 'save head', 'save budget']}\n",
    "\n",
    "oc = flopy.modflow.ModflowOc(mf, stress_period_data=spd)"
   ]
  },
  {
   "cell_type": "code",
   "execution_count": 13,
   "id": "7248b20a-5487-4664-89d1-26d8eee6bb4b",
   "metadata": {},
   "outputs": [],
   "source": [
    "pcg = flopy.modflow.ModflowPcg(mf)"
   ]
  },
  {
   "cell_type": "code",
   "execution_count": 14,
   "id": "de4e65dd-d606-44a6-9f45-3e6b435dbcc9",
   "metadata": {},
   "outputs": [
    {
     "name": "stdout",
     "output_type": "stream",
     "text": [
      "FloPy is using the following  executable to run the model: /home/harsh/Desktop/modflow_flopy/flopyCourse/mf2005\n",
      "\n",
      "                                  MODFLOW-2005     \n",
      "    U.S. GEOLOGICAL SURVEY MODULAR FINITE-DIFFERENCE GROUND-WATER FLOW MODEL\n",
      "                             Version 1.12.00 2/3/2017                        \n",
      "\n",
      " Using NAME file: Ex02_E2.nam \n",
      " Run start date and time (yyyy/mm/dd hh:mm:ss): 2021/06/23 20:37:45\n",
      "\n",
      " Solving:  Stress period:     1    Time step:     1    Ground-Water Flow Eqn.\n",
      " Solving:  Stress period:     2    Time step:     1    Ground-Water Flow Eqn.\n",
      " Solving:  Stress period:     2    Time step:     2    Ground-Water Flow Eqn.\n",
      " Solving:  Stress period:     2    Time step:     3    Ground-Water Flow Eqn.\n",
      " Solving:  Stress period:     2    Time step:     4    Ground-Water Flow Eqn.\n",
      " Solving:  Stress period:     2    Time step:     5    Ground-Water Flow Eqn.\n",
      " Solving:  Stress period:     2    Time step:     6    Ground-Water Flow Eqn.\n",
      " Solving:  Stress period:     2    Time step:     7    Ground-Water Flow Eqn.\n",
      " Solving:  Stress period:     2    Time step:     8    Ground-Water Flow Eqn.\n",
      " Solving:  Stress period:     2    Time step:     9    Ground-Water Flow Eqn.\n",
      " Solving:  Stress period:     2    Time step:    10    Ground-Water Flow Eqn.\n",
      " Solving:  Stress period:     2    Time step:    11    Ground-Water Flow Eqn.\n",
      " Solving:  Stress period:     2    Time step:    12    Ground-Water Flow Eqn.\n",
      " Solving:  Stress period:     3    Time step:     1    Ground-Water Flow Eqn.\n",
      " Solving:  Stress period:     3    Time step:     2    Ground-Water Flow Eqn.\n",
      " Solving:  Stress period:     3    Time step:     3    Ground-Water Flow Eqn.\n",
      " Solving:  Stress period:     3    Time step:     4    Ground-Water Flow Eqn.\n",
      " Solving:  Stress period:     3    Time step:     5    Ground-Water Flow Eqn.\n",
      " Solving:  Stress period:     3    Time step:     6    Ground-Water Flow Eqn.\n",
      " Solving:  Stress period:     3    Time step:     7    Ground-Water Flow Eqn.\n",
      " Solving:  Stress period:     3    Time step:     8    Ground-Water Flow Eqn.\n",
      " Solving:  Stress period:     3    Time step:     9    Ground-Water Flow Eqn.\n",
      " Solving:  Stress period:     3    Time step:    10    Ground-Water Flow Eqn.\n",
      " Solving:  Stress period:     3    Time step:    11    Ground-Water Flow Eqn.\n",
      " Solving:  Stress period:     3    Time step:    12    Ground-Water Flow Eqn.\n",
      " Solving:  Stress period:     4    Time step:     1    Ground-Water Flow Eqn.\n",
      " Solving:  Stress period:     4    Time step:     2    Ground-Water Flow Eqn.\n",
      " Solving:  Stress period:     4    Time step:     3    Ground-Water Flow Eqn.\n",
      " Solving:  Stress period:     4    Time step:     4    Ground-Water Flow Eqn.\n",
      " Solving:  Stress period:     4    Time step:     5    Ground-Water Flow Eqn.\n",
      " Solving:  Stress period:     4    Time step:     6    Ground-Water Flow Eqn.\n",
      " Solving:  Stress period:     4    Time step:     7    Ground-Water Flow Eqn.\n",
      " Solving:  Stress period:     4    Time step:     8    Ground-Water Flow Eqn.\n",
      " Solving:  Stress period:     4    Time step:     9    Ground-Water Flow Eqn.\n",
      " Solving:  Stress period:     4    Time step:    10    Ground-Water Flow Eqn.\n",
      " Solving:  Stress period:     4    Time step:    11    Ground-Water Flow Eqn.\n",
      " Solving:  Stress period:     4    Time step:    12    Ground-Water Flow Eqn.\n",
      " Solving:  Stress period:     5    Time step:     1    Ground-Water Flow Eqn.\n",
      " Solving:  Stress period:     5    Time step:     2    Ground-Water Flow Eqn.\n",
      " Solving:  Stress period:     5    Time step:     3    Ground-Water Flow Eqn.\n",
      " Solving:  Stress period:     5    Time step:     4    Ground-Water Flow Eqn.\n",
      " Solving:  Stress period:     5    Time step:     5    Ground-Water Flow Eqn.\n",
      " Solving:  Stress period:     5    Time step:     6    Ground-Water Flow Eqn.\n",
      " Solving:  Stress period:     5    Time step:     7    Ground-Water Flow Eqn.\n",
      " Solving:  Stress period:     5    Time step:     8    Ground-Water Flow Eqn.\n",
      " Solving:  Stress period:     5    Time step:     9    Ground-Water Flow Eqn.\n",
      " Solving:  Stress period:     5    Time step:    10    Ground-Water Flow Eqn.\n",
      " Solving:  Stress period:     5    Time step:    11    Ground-Water Flow Eqn.\n",
      " Solving:  Stress period:     5    Time step:    12    Ground-Water Flow Eqn.\n",
      " Solving:  Stress period:     6    Time step:     1    Ground-Water Flow Eqn.\n",
      " Solving:  Stress period:     6    Time step:     2    Ground-Water Flow Eqn.\n",
      " Solving:  Stress period:     6    Time step:     3    Ground-Water Flow Eqn.\n",
      " Solving:  Stress period:     6    Time step:     4    Ground-Water Flow Eqn.\n",
      " Solving:  Stress period:     6    Time step:     5    Ground-Water Flow Eqn.\n",
      " Solving:  Stress period:     6    Time step:     6    Ground-Water Flow Eqn.\n",
      " Solving:  Stress period:     6    Time step:     7    Ground-Water Flow Eqn.\n",
      " Solving:  Stress period:     6    Time step:     8    Ground-Water Flow Eqn.\n",
      " Solving:  Stress period:     6    Time step:     9    Ground-Water Flow Eqn.\n",
      " Solving:  Stress period:     6    Time step:    10    Ground-Water Flow Eqn.\n",
      " Solving:  Stress period:     6    Time step:    11    Ground-Water Flow Eqn.\n",
      " Solving:  Stress period:     6    Time step:    12    Ground-Water Flow Eqn.\n",
      " Solving:  Stress period:     7    Time step:     1    Ground-Water Flow Eqn.\n",
      " Solving:  Stress period:     7    Time step:     2    Ground-Water Flow Eqn.\n",
      " Solving:  Stress period:     7    Time step:     3    Ground-Water Flow Eqn.\n",
      " Solving:  Stress period:     7    Time step:     4    Ground-Water Flow Eqn.\n",
      " Solving:  Stress period:     7    Time step:     5    Ground-Water Flow Eqn.\n",
      " Solving:  Stress period:     7    Time step:     6    Ground-Water Flow Eqn.\n",
      " Solving:  Stress period:     7    Time step:     7    Ground-Water Flow Eqn.\n",
      " Solving:  Stress period:     7    Time step:     8    Ground-Water Flow Eqn.\n",
      " Solving:  Stress period:     7    Time step:     9    Ground-Water Flow Eqn.\n",
      " Solving:  Stress period:     7    Time step:    10    Ground-Water Flow Eqn.\n",
      " Solving:  Stress period:     7    Time step:    11    Ground-Water Flow Eqn.\n",
      " Solving:  Stress period:     7    Time step:    12    Ground-Water Flow Eqn.\n",
      " Solving:  Stress period:     8    Time step:     1    Ground-Water Flow Eqn.\n",
      " Solving:  Stress period:     8    Time step:     2    Ground-Water Flow Eqn.\n",
      " Solving:  Stress period:     8    Time step:     3    Ground-Water Flow Eqn.\n",
      " Solving:  Stress period:     8    Time step:     4    Ground-Water Flow Eqn.\n",
      " Solving:  Stress period:     8    Time step:     5    Ground-Water Flow Eqn.\n",
      " Solving:  Stress period:     8    Time step:     6    Ground-Water Flow Eqn.\n",
      " Solving:  Stress period:     8    Time step:     7    Ground-Water Flow Eqn.\n",
      " Solving:  Stress period:     8    Time step:     8    Ground-Water Flow Eqn.\n",
      " Solving:  Stress period:     8    Time step:     9    Ground-Water Flow Eqn.\n",
      " Solving:  Stress period:     8    Time step:    10    Ground-Water Flow Eqn.\n",
      " Solving:  Stress period:     8    Time step:    11    Ground-Water Flow Eqn.\n",
      " Solving:  Stress period:     8    Time step:    12    Ground-Water Flow Eqn.\n",
      " Solving:  Stress period:     9    Time step:     1    Ground-Water Flow Eqn.\n",
      " Solving:  Stress period:     9    Time step:     2    Ground-Water Flow Eqn.\n",
      " Solving:  Stress period:     9    Time step:     3    Ground-Water Flow Eqn.\n",
      " Solving:  Stress period:     9    Time step:     4    Ground-Water Flow Eqn.\n",
      " Solving:  Stress period:     9    Time step:     5    Ground-Water Flow Eqn.\n",
      " Solving:  Stress period:     9    Time step:     6    Ground-Water Flow Eqn.\n",
      " Solving:  Stress period:     9    Time step:     7    Ground-Water Flow Eqn.\n",
      " Solving:  Stress period:     9    Time step:     8    Ground-Water Flow Eqn.\n",
      " Solving:  Stress period:     9    Time step:     9    Ground-Water Flow Eqn.\n",
      " Solving:  Stress period:     9    Time step:    10    Ground-Water Flow Eqn.\n",
      " Solving:  Stress period:     9    Time step:    11    Ground-Water Flow Eqn.\n",
      " Solving:  Stress period:     9    Time step:    12    Ground-Water Flow Eqn.\n",
      " Solving:  Stress period:    10    Time step:     1    Ground-Water Flow Eqn.\n",
      " Solving:  Stress period:    10    Time step:     2    Ground-Water Flow Eqn.\n",
      " Solving:  Stress period:    10    Time step:     3    Ground-Water Flow Eqn.\n",
      " Solving:  Stress period:    10    Time step:     4    Ground-Water Flow Eqn.\n",
      " Solving:  Stress period:    10    Time step:     5    Ground-Water Flow Eqn.\n",
      " Solving:  Stress period:    10    Time step:     6    Ground-Water Flow Eqn.\n",
      " Solving:  Stress period:    10    Time step:     7    Ground-Water Flow Eqn.\n",
      " Solving:  Stress period:    10    Time step:     8    Ground-Water Flow Eqn.\n",
      " Solving:  Stress period:    10    Time step:     9    Ground-Water Flow Eqn.\n",
      " Solving:  Stress period:    10    Time step:    10    Ground-Water Flow Eqn.\n",
      " Solving:  Stress period:    10    Time step:    11    Ground-Water Flow Eqn.\n",
      " Solving:  Stress period:    10    Time step:    12    Ground-Water Flow Eqn.\n",
      " Solving:  Stress period:    11    Time step:     1    Ground-Water Flow Eqn.\n",
      " Solving:  Stress period:    11    Time step:     2    Ground-Water Flow Eqn.\n",
      " Solving:  Stress period:    11    Time step:     3    Ground-Water Flow Eqn.\n",
      " Solving:  Stress period:    11    Time step:     4    Ground-Water Flow Eqn.\n",
      " Solving:  Stress period:    11    Time step:     5    Ground-Water Flow Eqn.\n",
      " Solving:  Stress period:    11    Time step:     6    Ground-Water Flow Eqn.\n",
      " Solving:  Stress period:    11    Time step:     7    Ground-Water Flow Eqn.\n",
      " Solving:  Stress period:    11    Time step:     8    Ground-Water Flow Eqn.\n",
      " Solving:  Stress period:    11    Time step:     9    Ground-Water Flow Eqn.\n",
      " Solving:  Stress period:    11    Time step:    10    Ground-Water Flow Eqn.\n",
      " Solving:  Stress period:    11    Time step:    11    Ground-Water Flow Eqn.\n",
      " Solving:  Stress period:    11    Time step:    12    Ground-Water Flow Eqn.\n",
      " Run end date and time (yyyy/mm/dd hh:mm:ss): 2021/06/23 20:37:45\n",
      " Elapsed run time:  0.396 Seconds\n",
      "\n",
      "  Normal termination of simulation\n"
     ]
    },
    {
     "data": {
      "text/plain": [
       "(True, [])"
      ]
     },
     "execution_count": 14,
     "metadata": {},
     "output_type": "execute_result"
    }
   ],
   "source": [
    "mf.write_input()\n",
    "mf.run_model()"
   ]
  },
  {
   "cell_type": "code",
   "execution_count": 19,
   "id": "8c014039-0ae7-48c8-a05a-2b837499eccf",
   "metadata": {},
   "outputs": [
    {
     "data": {
      "text/plain": [
       "(3, 21, 20)"
      ]
     },
     "execution_count": 19,
     "metadata": {},
     "output_type": "execute_result"
    }
   ],
   "source": [
    "#Plotting the results\n",
    "import matplotlib.pyplot as plt\n",
    "import flopy.utils.binaryfile as bf\n",
    "\n",
    "hds = bf.HeadFile(model_ws + modelname + '.hds')\n",
    "head = hds.get_data()\n",
    "head.shape"
   ]
  },
  {
   "cell_type": "code",
   "execution_count": 23,
   "id": "417f0b8e-b5aa-4422-8db8-0376e4692a63",
   "metadata": {},
   "outputs": [
    {
     "data": {
      "image/png": "[encoded data removed]",
      "text/plain": [
       "<Figure size 432x288 with 1 Axes>"
      ]
     },
     "metadata": {
      "needs_background": "light"
     },
     "output_type": "display_data"
    }
   ],
   "source": [
    "#heads at the end of the model; change plt.contour() to get heads at different level\n",
    "plt.subplot(1,1,1, aspect='equal')\n",
    "hds = bf.HeadFile(model_ws + modelname + '.hds')\n",
    "head = hds.get_data()\n",
    "plt.contour(head[0,:,:])\n",
    "plt.savefig(model_ws+'Ex02_E2.png')\n",
    "# plt.colorbar()"
   ]
  }
 ],
 "metadata": {
  "kernelspec": {
   "display_name": "Python 3",
   "language": "python",
   "name": "python3"
  },
  "language_info": {
   "codemirror_mode": {
    "name": "ipython",
    "version": 3
   },
   "file_extension": ".py",
   "mimetype": "text/x-python",
   "name": "python",
   "nbconvert_exporter": "python",
   "pygments_lexer": "ipython3",
   "version": "3.9.5"
  }
 },
 "nbformat": 4,
 "nbformat_minor": 5
}
