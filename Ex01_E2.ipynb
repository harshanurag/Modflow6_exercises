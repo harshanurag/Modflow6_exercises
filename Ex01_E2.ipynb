{
 "cells": [
  {
   "cell_type": "code",
   "execution_count": 2,
   "id": "bc596e6b-a1a2-4510-a66e-b9f05d6c5ad6",
   "metadata": {},
   "outputs": [],
   "source": [
    "import flopy\n",
    "import numpy as np"
   ]
  },
  {
   "cell_type": "code",
   "execution_count": 3,
   "id": "0c4327ab-04ad-4b21-923b-485643eb7938",
   "metadata": {},
   "outputs": [],
   "source": [
    "modelname = 'Ex01_E2'\n",
    "exe_name = '/home/harsh/work/modflow/MF2005.1_12u/make/mf2005'\n",
    "model_ws = 'Results/'\n",
    "mf = flopy.modflow.Modflow(modelname, exe_name=exe_name, model_ws=model_ws)"
   ]
  },
  {
   "cell_type": "code",
   "execution_count": 4,
   "id": "3538b034-d014-40c7-b3bd-e97f1a8a087c",
   "metadata": {},
   "outputs": [],
   "source": [
    "Lx = 1000.\n",
    "Ly = 1000.\n",
    "ztop = 0.\n",
    "zbot = -50.\n",
    "nlay = 1\n",
    "nrow = 10\n",
    "ncol = 10\n",
    "delr = Lx/ncol\n",
    "delc = Lx/nrow\n",
    "dis = flopy.modflow.ModflowDis(mf, nlay, nrow, ncol, delr=delr, delc=delc, top=ztop, botm=zbot)"
   ]
  },
  {
   "cell_type": "code",
   "execution_count": 6,
   "id": "a7a0cfa6-fbcd-4692-bd55-3668fe501551",
   "metadata": {},
   "outputs": [],
   "source": [
    "ibound = np.ones((nlay, nrow, ncol), dtype = np.int32)\n",
    "ibound[:,:,0] = -1\n",
    "ibound[:,:,-1] = -1"
   ]
  },
  {
   "cell_type": "code",
   "execution_count": 7,
   "id": "cba2b6d4-4b58-4dbc-8369-147c08258270",
   "metadata": {},
   "outputs": [],
   "source": [
    "strt = np.ones((nlay, nrow, ncol), dtype=np.float32)\n",
    "strt[:,:,0] = 10\n",
    "strt[:,:,-1] = 0\n",
    "bas = flopy.modflow.ModflowBas(mf, ibound=ibound, strt=strt)"
   ]
  },
  {
   "cell_type": "code",
   "execution_count": 9,
   "id": "57e38af5-3b66-433d-80a5-4b9614b1d1fe",
   "metadata": {},
   "outputs": [],
   "source": [
    "lpf = flopy.modflow.ModflowLpf(mf, hk=10., vka=10., ipakcb=53)"
   ]
  },
  {
   "cell_type": "code",
   "execution_count": 10,
   "id": "37576956-50e2-4ad5-a554-984b13ade27e",
   "metadata": {},
   "outputs": [],
   "source": [
    "spd = {(0,0):['print head', 'print budget', 'save head', 'save budget']}\n",
    "oc = flopy.modflow.ModflowOc(mf, stress_period_data=spd, compact=True)"
   ]
  },
  {
   "cell_type": "code",
   "execution_count": 11,
   "id": "34ee18f3-825d-4dcb-9e78-614281f92e11",
   "metadata": {},
   "outputs": [],
   "source": [
    "pcg = flopy.modflow.ModflowPcg(mf)"
   ]
  },
  {
   "cell_type": "code",
   "execution_count": 12,
   "id": "af058945-9feb-41dd-9696-1524222467af",
   "metadata": {},
   "outputs": [],
   "source": [
    "mf.write_input()"
   ]
  },
  {
   "cell_type": "code",
   "execution_count": 13,
   "id": "5260ced1-14dc-46a9-a057-e73467780e68",
   "metadata": {},
   "outputs": [
    {
     "name": "stdout",
     "output_type": "stream",
     "text": [
      "FloPy is using the following  executable to run the model: /home/harsh/work/modflow/MF2005.1_12u/make/mf2005\n",
      "\n",
      "                                  MODFLOW-2005     \n",
      "    U.S. GEOLOGICAL SURVEY MODULAR FINITE-DIFFERENCE GROUND-WATER FLOW MODEL\n",
      "                             Version 1.12.00 2/3/2017                        \n",
      "\n",
      " Using NAME file: Ex01_E2.nam \n",
      " Run start date and time (yyyy/mm/dd hh:mm:ss): 2021/06/22 20:54:05\n",
      "\n",
      " Solving:  Stress period:     1    Time step:     1    Ground-Water Flow Eqn.\n",
      " Run end date and time (yyyy/mm/dd hh:mm:ss): 2021/06/22 20:54:05\n",
      " Elapsed run time:  0.006 Seconds\n",
      "\n",
      "  Normal termination of simulation\n"
     ]
    },
    {
     "data": {
      "text/plain": [
       "(True, [])"
      ]
     },
     "execution_count": 13,
     "metadata": {},
     "output_type": "execute_result"
    }
   ],
   "source": [
    "mf.run_model()"
   ]
  },
  {
   "cell_type": "code",
   "execution_count": 14,
   "id": "9bc9d98f-47d1-43aa-8a47-c514b8cf8a1e",
   "metadata": {},
   "outputs": [
    {
     "data": {
      "image/png": "[encoded data removed]",
      "text/plain": [
       "<Figure size 432x288 with 1 Axes>"
      ]
     },
     "metadata": {
      "needs_background": "light"
     },
     "output_type": "display_data"
    }
   ],
   "source": [
    "import matplotlib.pyplot as plt\n",
    "import flopy.utils.binaryfile as bf\n",
    "\n",
    "plt.subplot(1,1,1, aspect='equal')\n",
    "\n",
    "hds = bf.HeadFile(model_ws + modelname + '.hds')\n",
    "head = hds.get_data(totim=1.0)\n",
    "levels = np.arange(1, 10, 1)\n",
    "extent = (delr/2, Lx - delr/2, Ly - delc/2, delc/2)\n",
    "plt.contour(head[0,:,:], levels=levels, extent=extent)\n",
    "plt.savefig(model_ws+'Ex01_E2.png')"
   ]
  }
 ],
 "metadata": {
  "kernelspec": {
   "display_name": "Python 3",
   "language": "python",
   "name": "python3"
  },
  "language_info": {
   "codemirror_mode": {
    "name": "ipython",
    "version": 3
   },
   "file_extension": ".py",
   "mimetype": "text/x-python",
   "name": "python",
   "nbconvert_exporter": "python",
   "pygments_lexer": "ipython3",
   "version": "3.9.5"
  }
 },
 "nbformat": 4,
 "nbformat_minor": 5
}
